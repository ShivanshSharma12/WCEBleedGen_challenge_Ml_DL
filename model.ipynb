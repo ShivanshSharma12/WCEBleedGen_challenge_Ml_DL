{
 "cells": [
  {
   "cell_type": "code",
   "execution_count": 1,
   "id": "3a8f5850",
   "metadata": {},
   "outputs": [],
   "source": [
    "import tensorflow as tf\n",
    "from tensorflow import keras\n",
    "from tensorflow.keras import layers\n",
    "from tensorflow.keras.preprocessing.image import ImageDataGenerator\n",
    "from sklearn.model_selection import train_test_split\n",
    "import os\n",
    "import cv2\n",
    "import numpy as np\n",
    "from tensorflow.keras.layers import Dropout"
   ]
  },
  {
   "cell_type": "code",
   "execution_count": 2,
   "id": "6440a5a2",
   "metadata": {},
   "outputs": [],
   "source": [
    "bleeding_folder = r\"C:\\Users\\SHIVANSH SHARMA\\Desktop\\projects\\hack\\bleeding\"  # Replace with the path to your bleeding dataset\n",
    "non_bleeding_folder = r\"C:\\Users\\SHIVANSH SHARMA\\Desktop\\projects\\non_bleeding\"  # Replace with the path to your non-bleeding dataset\n",
    "\n",
    "bleeding_images = [cv2.imread(os.path.join(bleeding_folder, img)) for img in os.listdir(bleeding_folder)]\n",
    "non_bleeding_images = [cv2.imread(os.path.join(non_bleeding_folder, img)) for img in os.listdir(non_bleeding_folder)]\n",
    "\n",
    "# Create labels (1 for bleeding, 0 for non-bleeding)\n",
    "bleeding_labels = np.ones(len(bleeding_images))\n",
    "non_bleeding_labels = np.zeros(len(non_bleeding_images))\n",
    "\n",
    "# Combine the datasets\n",
    "images = np.concatenate([bleeding_images, non_bleeding_images], axis=0)\n",
    "labels = np.concatenate([bleeding_labels, non_bleeding_labels], axis=0)"
   ]
  },
  {
   "cell_type": "code",
   "execution_count": 3,
   "id": "5071dd13",
   "metadata": {},
   "outputs": [],
   "source": [
    "# Create empty lists to store images and labels\n",
    "images = []\n",
    "labels = []\n",
    "\n",
    "# Load and preprocess bleeding images\n",
    "for filename in os.listdir(bleeding_folder):\n",
    "    if filename.endswith('.png'):\n",
    "        image = cv2.imread(os.path.join(bleeding_folder, filename))\n",
    "        image = cv2.resize(image, (224, 224))  # Resize images to a consistent size (e.g., 224x224)\n",
    "        image = image / 255.0  # Normalize pixel values to the range [0, 1]\n",
    "        images.append(image)\n",
    "        labels.append(1)  # Assign a label of 1 for bleeding images\n",
    "\n",
    "# Load and preprocess non-bleeding images\n",
    "for filename in os.listdir(non_bleeding_folder):\n",
    "    if filename.endswith('.png'):\n",
    "        image = cv2.imread(os.path.join(non_bleeding_folder, filename))\n",
    "        image = cv2.resize(image, (224, 224))  # Resize images to a consistent size (e.g., 224x224)\n",
    "        image = image / 255.0  # Normalize pixel values to the range [0, 1]\n",
    "        images.append(image)\n",
    "        labels.append(0)  # Assign a label of 0 for non-bleeding images\n",
    "\n",
    "# Convert lists to NumPy arrays\n",
    "X = np.array(images)\n",
    "y = np.array(labels)\n"
   ]
  },
  {
   "cell_type": "code",
   "execution_count": 4,
   "id": "383b6877",
   "metadata": {},
   "outputs": [
    {
     "name": "stdout",
     "output_type": "stream",
     "text": [
      "Number of loaded images: 2618\n",
      "Number of labels: 2618\n"
     ]
    }
   ],
   "source": [
    "print(\"Number of loaded images:\", len(images))\n",
    "\n",
    "print(\"Number of labels:\", len(labels))\n"
   ]
  },
  {
   "cell_type": "code",
   "execution_count": 5,
   "id": "a056cf11",
   "metadata": {},
   "outputs": [],
   "source": [
    "X_train, X_val, y_train, y_val = train_test_split(X, y, test_size=0.2, random_state=42)"
   ]
  },
  {
   "cell_type": "code",
   "execution_count": 6,
   "id": "305e6c79",
   "metadata": {},
   "outputs": [],
   "source": [
    "# Assuming X_train contains your training image data\n",
    "sample_image = X_train[0]  # Take the first image as a sample\n",
    "image_height, image_width, _ = sample_image.shape\n"
   ]
  },
  {
   "cell_type": "code",
   "execution_count": 7,
   "id": "fa9b5152",
   "metadata": {},
   "outputs": [],
   "source": [
    "model = keras.Sequential([\n",
    "    layers.Conv2D(32, (3, 3), activation='relu', input_shape=(image_height, image_width, 3)),\n",
    "    layers.MaxPooling2D((2, 2)),\n",
    "    layers.Conv2D(64, (3, 3), activation='relu'),\n",
    "    layers.MaxPooling2D((2, 2)),\n",
    "    layers.Flatten(),\n",
    "    layers.Dense(64, activation='relu'),\n",
    "    layers.Dense(1, activation='sigmoid')  # Binary classification, so use sigmoid activation\n",
    "])"
   ]
  },
  {
   "cell_type": "code",
   "execution_count": 8,
   "id": "0cba2449",
   "metadata": {},
   "outputs": [],
   "source": [
    "model.compile(optimizer='adam', loss='binary_crossentropy', metrics=['accuracy'])\n"
   ]
  },
  {
   "cell_type": "code",
   "execution_count": 9,
   "id": "75e0da62",
   "metadata": {},
   "outputs": [
    {
     "name": "stdout",
     "output_type": "stream",
     "text": [
      "Epoch 1/10\n",
      "66/66 [==============================] - 121s 2s/step - loss: 0.5314 - accuracy: 0.7880 - val_loss: 0.1769 - val_accuracy: 0.9313\n",
      "Epoch 2/10\n",
      "66/66 [==============================] - 114s 2s/step - loss: 0.1437 - accuracy: 0.9479 - val_loss: 0.1187 - val_accuracy: 0.9637\n",
      "Epoch 3/10\n",
      "66/66 [==============================] - 115s 2s/step - loss: 0.0775 - accuracy: 0.9718 - val_loss: 0.1360 - val_accuracy: 0.9389\n",
      "Epoch 4/10\n",
      "66/66 [==============================] - 113s 2s/step - loss: 0.0472 - accuracy: 0.9828 - val_loss: 0.1864 - val_accuracy: 0.9466\n",
      "Epoch 5/10\n",
      "66/66 [==============================] - 114s 2s/step - loss: 0.0382 - accuracy: 0.9871 - val_loss: 0.1104 - val_accuracy: 0.9637\n",
      "Epoch 6/10\n",
      "66/66 [==============================] - 103s 2s/step - loss: 0.0132 - accuracy: 0.9967 - val_loss: 0.1354 - val_accuracy: 0.9523\n",
      "Epoch 7/10\n",
      "66/66 [==============================] - 110s 2s/step - loss: 0.0156 - accuracy: 0.9952 - val_loss: 0.0702 - val_accuracy: 0.9809\n",
      "Epoch 8/10\n",
      "66/66 [==============================] - 110s 2s/step - loss: 0.0048 - accuracy: 1.0000 - val_loss: 0.0893 - val_accuracy: 0.9752\n",
      "Epoch 9/10\n",
      "66/66 [==============================] - 114s 2s/step - loss: 0.0020 - accuracy: 1.0000 - val_loss: 0.0895 - val_accuracy: 0.9790\n",
      "Epoch 10/10\n",
      "66/66 [==============================] - 115s 2s/step - loss: 0.0013 - accuracy: 1.0000 - val_loss: 0.1023 - val_accuracy: 0.9771\n"
     ]
    },
    {
     "data": {
      "text/plain": [
       "<keras.callbacks.History at 0x20169682d10>"
      ]
     },
     "execution_count": 9,
     "metadata": {},
     "output_type": "execute_result"
    }
   ],
   "source": [
    "epochs = 10  # Set the number of training epochs (you can adjust this number as needed)\n",
    "\n",
    "# Now you can use the 'epochs' variable in the 'model.fit' function\n",
    "model.fit(X_train, y_train, epochs=epochs, validation_data=(X_val, y_val))\n",
    "\n"
   ]
  },
  {
   "cell_type": "code",
   "execution_count": 10,
   "id": "87ace3fa",
   "metadata": {},
   "outputs": [
    {
     "name": "stdout",
     "output_type": "stream",
     "text": [
      "17/17 [==============================] - 7s 379ms/step\n",
      "Accuracy: 0.9771\n",
      "Precision: 0.9846\n",
      "Recall: 0.9696\n",
      "F1-Score: 0.9770\n",
      "ROC-AUC: 0.9944\n",
      "Confusion Matrix:\n",
      "[[257   4]\n",
      " [  8 255]]\n"
     ]
    }
   ],
   "source": [
    "from sklearn.metrics import accuracy_score, precision_score, recall_score, f1_score, roc_auc_score, confusion_matrix\n",
    "\n",
    "# Assuming 'y_val' contains true labels and 'y_pred' contains predicted labels\n",
    "y_pred = model.predict(X_val)\n",
    "y_pred_binary = (y_pred > 0.5).astype(int)  # Convert probabilities to binary predictions\n",
    "\n",
    "# Calculate metrics\n",
    "accuracy = accuracy_score(y_val, y_pred_binary)\n",
    "precision = precision_score(y_val, y_pred_binary)\n",
    "recall = recall_score(y_val, y_pred_binary)\n",
    "f1 = f1_score(y_val, y_pred_binary)\n",
    "roc_auc = roc_auc_score(y_val, y_pred)\n",
    "conf_matrix = confusion_matrix(y_val, y_pred_binary)\n",
    "\n",
    "# Print the metrics\n",
    "print(f\"Accuracy: {accuracy:.4f}\")\n",
    "print(f\"Precision: {precision:.4f}\")\n",
    "print(f\"Recall: {recall:.4f}\")\n",
    "print(f\"F1-Score: {f1:.4f}\")\n",
    "print(f\"ROC-AUC: {roc_auc:.4f}\")\n",
    "print(\"Confusion Matrix:\")\n",
    "print(conf_matrix)\n"
   ]
  },
  {
   "cell_type": "code",
   "execution_count": null,
   "id": "0034d21c",
   "metadata": {},
   "outputs": [],
   "source": []
  }
 ],
 "metadata": {
  "kernelspec": {
   "display_name": "Python 3 (ipykernel)",
   "language": "python",
   "name": "python3"
  },
  "language_info": {
   "codemirror_mode": {
    "name": "ipython",
    "version": 3
   },
   "file_extension": ".py",
   "mimetype": "text/x-python",
   "name": "python",
   "nbconvert_exporter": "python",
   "pygments_lexer": "ipython3",
   "version": "3.10.9"
  }
 },
 "nbformat": 4,
 "nbformat_minor": 5
}
